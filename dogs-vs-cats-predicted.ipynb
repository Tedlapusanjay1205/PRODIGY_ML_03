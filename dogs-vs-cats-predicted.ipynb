{
 "cells": [
  {
   "cell_type": "code",
   "execution_count": 1,
   "id": "64583027",
   "metadata": {
    "_cell_guid": "b1076dfc-b9ad-4769-8c92-a6c4dae69d19",
    "_uuid": "8f2839f25d086af736a60e9eeb907d3b93b6e0e5",
    "execution": {
     "iopub.execute_input": "2024-11-12T18:48:05.062220Z",
     "iopub.status.busy": "2024-11-12T18:48:05.061444Z",
     "iopub.status.idle": "2024-11-12T18:48:13.980592Z",
     "shell.execute_reply": "2024-11-12T18:48:13.979795Z"
    },
    "papermill": {
     "duration": 8.925299,
     "end_time": "2024-11-12T18:48:13.982891",
     "exception": false,
     "start_time": "2024-11-12T18:48:05.057592",
     "status": "completed"
    },
    "tags": []
   },
   "outputs": [],
   "source": [
    "import torch\n",
    "import pandas as pd\n",
    "from torchvision import models, transforms\n",
    "from torch.utils.data import DataLoader\n",
    "from PIL import Image\n",
    "import os"
   ]
  },
  {
   "cell_type": "code",
   "execution_count": 2,
   "id": "ad30df5c",
   "metadata": {
    "execution": {
     "iopub.execute_input": "2024-11-12T18:48:13.989446Z",
     "iopub.status.busy": "2024-11-12T18:48:13.988797Z",
     "iopub.status.idle": "2024-11-12T18:48:18.362563Z",
     "shell.execute_reply": "2024-11-12T18:48:18.361287Z"
    },
    "papermill": {
     "duration": 4.379251,
     "end_time": "2024-11-12T18:48:18.364922",
     "exception": false,
     "start_time": "2024-11-12T18:48:13.985671",
     "status": "completed"
    },
    "tags": []
   },
   "outputs": [],
   "source": [
    "import zipfile\n",
    "test_zip_path = '/kaggle/input/dogs-vs-cats/test1.zip'\n",
    "extract_to_directory = '/kaggle/working/'\n",
    "with zipfile.ZipFile(test_zip_path, 'r') as zip_ref:\n",
    "    zip_ref.extractall(extract_to_directory)"
   ]
  },
  {
   "cell_type": "code",
   "execution_count": 3,
   "id": "f7618b7e",
   "metadata": {
    "execution": {
     "iopub.execute_input": "2024-11-12T18:48:18.371327Z",
     "iopub.status.busy": "2024-11-12T18:48:18.370790Z",
     "iopub.status.idle": "2024-11-12T18:49:40.128012Z",
     "shell.execute_reply": "2024-11-12T18:49:40.127027Z"
    },
    "papermill": {
     "duration": 81.763143,
     "end_time": "2024-11-12T18:49:40.130681",
     "exception": false,
     "start_time": "2024-11-12T18:48:18.367538",
     "status": "completed"
    },
    "tags": []
   },
   "outputs": [
    {
     "name": "stderr",
     "output_type": "stream",
     "text": [
      "/opt/conda/lib/python3.10/site-packages/torchvision/models/_utils.py:208: UserWarning: The parameter 'pretrained' is deprecated since 0.13 and may be removed in the future, please use 'weights' instead.\n",
      "  warnings.warn(\n",
      "/opt/conda/lib/python3.10/site-packages/torchvision/models/_utils.py:223: UserWarning: Arguments other than a weight enum or `None` for 'weights' are deprecated since 0.13 and may be removed in the future. The current behavior is equivalent to passing `weights=None`.\n",
      "  warnings.warn(msg)\n",
      "/tmp/ipykernel_24/1038562633.py:5: FutureWarning: You are using `torch.load` with `weights_only=False` (the current default value), which uses the default pickle module implicitly. It is possible to construct malicious pickle data which will execute arbitrary code during unpickling (See https://github.com/pytorch/pytorch/blob/main/SECURITY.md#untrusted-models for more details). In a future release, the default value for `weights_only` will be flipped to `True`. This limits the functions that could be executed during unpickling. Arbitrary objects will no longer be allowed to be loaded via this mode unless they are explicitly allowlisted by the user via `torch.serialization.add_safe_globals`. We recommend you start setting `weights_only=True` for any use case where you don't have full control of the loaded file. Please open an issue on GitHub for any issues related to this experimental feature.\n",
      "  model.load_state_dict(torch.load('/kaggle/input/notebook12c651d9a1/cats_vs_dogs_resnet18.pth'))  # Load your trained model\n"
     ]
    }
   ],
   "source": [
    "\n",
    "\n",
    "# Load the trained model\n",
    "device = torch.device(\"cuda\" if torch.cuda.is_available() else \"cpu\")\n",
    "model = models.resnet18(pretrained=False)\n",
    "model.fc = torch.nn.Linear(model.fc.in_features, 2)  # Modify the last layer for 2 classes\n",
    "model.load_state_dict(torch.load('/kaggle/input/notebook12c651d9a1/cats_vs_dogs_resnet18.pth'))  # Load your trained model\n",
    "model = model.to(device)\n",
    "model.eval()\n",
    "\n",
    "# Define the image transformations (same as during training)\n",
    "transform_test = transforms.Compose([\n",
    "    transforms.Resize((224, 224)),\n",
    "    transforms.ToTensor(),\n",
    "    transforms.Normalize(mean=[0.485, 0.456, 0.406], std=[0.229, 0.224, 0.225]),\n",
    "])\n",
    "\n",
    "# Path to the test images directory\n",
    "test_dir = '/kaggle/working/test1'  # Modify this with your test directory path\n",
    "\n",
    "# List all image files in the test directory\n",
    "test_images = os.listdir(test_dir)\n",
    "\n",
    "# Prepare the list for storing the results\n",
    "results = []\n",
    "\n",
    "# Process each image in the test directory\n",
    "for idx, file_name in enumerate(test_images, start=1):\n",
    "    image_path = os.path.join(test_dir, file_name)\n",
    "    image = Image.open(image_path)\n",
    "\n",
    "    # Apply the transformation to the image\n",
    "    image = transform_test(image).unsqueeze(0).to(device)  # Add batch dimension\n",
    "\n",
    "    # Make the prediction\n",
    "    with torch.no_grad():\n",
    "        output = model(image)\n",
    "        _, predicted = torch.max(output, 1)\n",
    "\n",
    "    # 1 = dog, 0 = cat\n",
    "    label = predicted.item()\n",
    "\n",
    "    # Append result in the format (id, label)\n",
    "    results.append([idx, label])\n",
    "\n"
   ]
  },
  {
   "cell_type": "code",
   "execution_count": 4,
   "id": "a7d8746a",
   "metadata": {
    "execution": {
     "iopub.execute_input": "2024-11-12T18:49:40.138197Z",
     "iopub.status.busy": "2024-11-12T18:49:40.137875Z",
     "iopub.status.idle": "2024-11-12T18:49:40.188598Z",
     "shell.execute_reply": "2024-11-12T18:49:40.187578Z"
    },
    "papermill": {
     "duration": 0.056658,
     "end_time": "2024-11-12T18:49:40.190713",
     "exception": false,
     "start_time": "2024-11-12T18:49:40.134055",
     "status": "completed"
    },
    "tags": []
   },
   "outputs": [
    {
     "name": "stdout",
     "output_type": "stream",
     "text": [
      "   id  label\n",
      "0   1      0\n",
      "1   2      1\n",
      "2   3      1\n",
      "3   4      1\n",
      "4   5      1\n"
     ]
    }
   ],
   "source": [
    "# Create a DataFrame and save to CSV\n",
    "results_df = pd.DataFrame(results, columns=['id', 'label'])\n",
    "results_df.to_csv('/kaggle/working/submission.csv', index=False)\n",
    "\n",
    "# Print the first few results to check\n",
    "print(results_df.head())\n"
   ]
  },
  {
   "cell_type": "code",
   "execution_count": null,
   "id": "e07f0cd8",
   "metadata": {
    "papermill": {
     "duration": 0.002891,
     "end_time": "2024-11-12T18:49:40.196574",
     "exception": false,
     "start_time": "2024-11-12T18:49:40.193683",
     "status": "completed"
    },
    "tags": []
   },
   "outputs": [],
   "source": []
  }
 ],
 "metadata": {
  "kaggle": {
   "accelerator": "nvidiaTeslaT4",
   "dataSources": [
    {
     "databundleVersionId": 31148,
     "sourceId": 3362,
     "sourceType": "competition"
    },
    {
     "sourceId": 206858608,
     "sourceType": "kernelVersion"
    }
   ],
   "dockerImageVersionId": 30787,
   "isGpuEnabled": true,
   "isInternetEnabled": true,
   "language": "python",
   "sourceType": "notebook"
  },
  "kernelspec": {
   "display_name": "Python 3",
   "language": "python",
   "name": "python3"
  },
  "language_info": {
   "codemirror_mode": {
    "name": "ipython",
    "version": 3
   },
   "file_extension": ".py",
   "mimetype": "text/x-python",
   "name": "python",
   "nbconvert_exporter": "python",
   "pygments_lexer": "ipython3",
   "version": "3.10.14"
  },
  "papermill": {
   "default_parameters": {},
   "duration": 101.23503,
   "end_time": "2024-11-12T18:49:42.576487",
   "environment_variables": {},
   "exception": null,
   "input_path": "__notebook__.ipynb",
   "output_path": "__notebook__.ipynb",
   "parameters": {},
   "start_time": "2024-11-12T18:48:01.341457",
   "version": "2.6.0"
  }
 },
 "nbformat": 4,
 "nbformat_minor": 5
}
